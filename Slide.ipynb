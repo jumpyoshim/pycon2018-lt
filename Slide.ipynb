{
 "cells": [
  {
   "cell_type": "markdown",
   "metadata": {
    "slideshow": {
     "slide_type": "slide"
    }
   },
   "source": [
    "# テキストマイニングによるTwitter個人アカウントの性格推定\n",
    "\n",
    "- 2018-09-17 PyCon JP 2018\n",
    "- @jumpyoshim / Jumpei Yoshimura\n",
    "- iRidge, Inc. - Gold Sponsor"
   ]
  },
  {
   "cell_type": "markdown",
   "metadata": {
    "slideshow": {
     "slide_type": "slide"
    }
   },
   "source": [
    "# 目次\n",
    "- ツイートの収集\n",
    "- 文書分類器の作成\n",
    "  - 形態素解析\n",
    "  - 特徴ベクトル\n",
    "  - 機械学習"
   ]
  },
  {
   "cell_type": "markdown",
   "metadata": {
    "slideshow": {
     "slide_type": "slide"
    }
   },
   "source": [
    "# ツイートの収集"
   ]
  },
  {
   "cell_type": "code",
   "execution_count": 7,
   "metadata": {
    "slideshow": {
     "slide_type": "-"
    }
   },
   "outputs": [
    {
     "data": {
      "text/plain": [
       "[Status(ID=1039065269425983488, ScreenName=PyConJ, Created=Mon Sep 10 08:17:19 +0000 2018, Text='RT @smarttradeinc: PyConJP2018のノベルティグッズが出来上がりました！皆さん是非ブースにお立ち寄りください♪\\n #pyconjp https://t.co/6BGHJkCAXY'),\n",
       " Status(ID=1039064907965030401, ScreenName=PyConJ, Created=Mon Sep 10 08:15:53 +0000 2018, Text='RT @yuzutas0: 昨年登壇したけど、最高のイベントでした。オススメです。実はベストトークアワード優秀賞を頂いたりもしました。 #pyconjp\\n\\n「PyCon JP 2018 ひろがるPython」登壇者座談会 ～わたしのPythonのひろげかた～：CodeZine（…')]"
      ]
     },
     "execution_count": 7,
     "metadata": {},
     "output_type": "execute_result"
    }
   ],
   "source": [
    "import twitter\n",
    "from ipython_secrets import get_secret\n",
    "\n",
    "CONSUMER_KEY = get_secret('CONSUMER_KEY')\n",
    "CONSUMER_SECRET = get_secret('CONSUMER_SECRET')\n",
    "ACCESS_TOKEN_KEY = get_secret('ACCESS_TOKEN_KEY')\n",
    "ACCESS_TOKEN_SECRET = get_secret('ACCESS_TOKEN_SECRET')\n",
    "\n",
    "api = twitter.Api(consumer_key=CONSUMER_KEY,\n",
    "                              consumer_secret=CONSUMER_SECRET,\n",
    "                              access_token_key=ACCESS_TOKEN_KEY,\n",
    "                              access_token_secret=ACCESS_TOKEN_SECRET)\n",
    "\n",
    "api.GetUserTimeline(screen_name='PyConJ', count=2)"
   ]
  },
  {
   "cell_type": "markdown",
   "metadata": {
    "slideshow": {
     "slide_type": "slide"
    }
   },
   "source": [
    "# 形態素解析"
   ]
  },
  {
   "cell_type": "code",
   "execution_count": 2,
   "metadata": {
    "scrolled": true,
    "slideshow": {
     "slide_type": "-"
    }
   },
   "outputs": [
    {
     "name": "stdout",
     "output_type": "stream",
     "text": [
      "[['rt', '@', 'smarttradeinc', ':', 'pyconjp', '2018', 'ノベルティグッズ', '皆さん', '是非', 'ブース', '♪', '#', 'pyconjp', 'https', '://', 't', '.', 'co', '/', '6', 'bghjkcaxy'], ['rt', '@', 'yuzutas', '0', ':', '昨年', '登壇', '最高', 'イベント', 'オススメ', 'ベスト', 'トーク', 'アワード', '優秀', '賞', '#', 'pyconjp', 'pycon', 'jp', '2018', 'python', '登壇', '者', '座談', '会', '～', 'わたし', 'python', 'かた', '～：', 'codezine']]\n"
     ]
    }
   ],
   "source": [
    "import MeCab\n",
    "\n",
    "tagger = MeCab.Tagger('mecabrc')\n",
    "data = []\n",
    "for tweet in tweets:\n",
    "    node = tagger.parseToNode(tweet.text)\n",
    "    words = []\n",
    "    while node:\n",
    "        meta = node.feature.split(',')\n",
    "        if meta[0] == '名詞':\n",
    "            words.append(node.surface.lower())\n",
    "        node = node.next\n",
    "    data.append(words)\n",
    "print(data)"
   ]
  },
  {
   "cell_type": "markdown",
   "metadata": {
    "slideshow": {
     "slide_type": "slide"
    }
   },
   "source": [
    "# 特徴ベクトル"
   ]
  },
  {
   "cell_type": "code",
   "execution_count": 3,
   "metadata": {},
   "outputs": [
    {
     "name": "stdout",
     "output_type": "stream",
     "text": [
      "[[1.0, 1.0, 1.0, 1.0, 1.0, 1.0, 1.0, 1.0, 1.0, 1.0, 1.0, 2.0, 1.0, 1.0, 1.0, 1.0, 1.0, 1.0, 1.0, 1.0, 0.0, 0.0, 0.0, 0.0, 0.0, 0.0, 0.0, 0.0, 0.0, 0.0, 0.0, 0.0, 0.0, 0.0, 0.0, 0.0, 0.0, 0.0, 0.0, 0.0, 0.0, 0.0, 0.0], [1.0, 0.0, 0.0, 1.0, 0.0, 1.0, 0.0, 1.0, 0.0, 0.0, 0.0, 1.0, 1.0, 0.0, 0.0, 0.0, 0.0, 0.0, 0.0, 0.0, 1.0, 1.0, 1.0, 1.0, 2.0, 1.0, 1.0, 1.0, 1.0, 1.0, 1.0, 1.0, 1.0, 1.0, 1.0, 1.0, 1.0, 1.0, 2.0, 1.0, 1.0, 1.0, 1.0]]\n"
     ]
    }
   ],
   "source": [
    "from gensim import corpora, matutils\n",
    "\n",
    "dictionary = corpora.Dictionary(data)\n",
    "data_train = []\n",
    "for datum in data:\n",
    "    bow = dictionary.doc2bow(datum)\n",
    "    dense = list(matutils.corpus2dense([bow], num_terms=len(dictionary)).T[0])\n",
    "    data_train.append(dense)\n",
    "print(data_train)"
   ]
  },
  {
   "cell_type": "markdown",
   "metadata": {},
   "source": [
    "# 機械学習"
   ]
  },
  {
   "cell_type": "code",
   "execution_count": 6,
   "metadata": {},
   "outputs": [
    {
     "data": {
      "text/plain": [
       "array(['aaaaa', 'bbbbb'], dtype='<U5')"
      ]
     },
     "execution_count": 6,
     "metadata": {},
     "output_type": "execute_result"
    }
   ],
   "source": [
    "from sklearn.ensemble import RandomForestClassifier\n",
    "\n",
    "estimator = RandomForestClassifier()\n",
    "label_train = ['aaaaa', 'bbbbb']\n",
    "estimator.fit(data_train, label_train)\n",
    "estimator.predict(data_train)"
   ]
  },
  {
   "cell_type": "code",
   "execution_count": null,
   "metadata": {},
   "outputs": [],
   "source": []
  }
 ],
 "metadata": {
  "celltoolbar": "Slideshow",
  "kernelspec": {
   "display_name": "Python 3",
   "language": "python",
   "name": "python3"
  },
  "language_info": {
   "codemirror_mode": {
    "name": "ipython",
    "version": 3
   },
   "file_extension": ".py",
   "mimetype": "text/x-python",
   "name": "python",
   "nbconvert_exporter": "python",
   "pygments_lexer": "ipython3",
   "version": "3.7.0"
  }
 },
 "nbformat": 4,
 "nbformat_minor": 2
}
