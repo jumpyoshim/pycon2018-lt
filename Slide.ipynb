{
 "cells": [
  {
   "cell_type": "markdown",
   "metadata": {
    "slideshow": {
     "slide_type": "slide"
    }
   },
   "source": [
    "# テキストマイニングによるTwitter個人アカウントの性格推定  \n",
    "\n",
    "- 2018-09-17 PyCon JP 2018\n",
    "- @jumpyoshim ([Twitter](https://twitter.com/jumpyoshim)/[Qiita](https://qiita.com/jumpyoshim)/[GitLab](https://gitlab.com/jumpyoshim)/[はてなブログ](https://jumpyoshim.hatenablog.com/)) / 吉村 潤平\n",
    "- iRidge, Inc. - Gold Sponsor"
   ]
  },
  {
   "cell_type": "markdown",
   "metadata": {
    "slideshow": {
     "slide_type": "slide"
    }
   },
   "source": [
    "<div align=\"center\">\n",
    "<img src=\"images/kataomoi_woman.png\">\n",
    "</div>"
   ]
  },
  {
   "cell_type": "markdown",
   "metadata": {
    "slideshow": {
     "slide_type": "subslide"
    }
   },
   "source": [
    "<div align=\"center\">\n",
    "<img src=\"images/pose_atama_kakaeru_woman.png\">\n",
    "</div>"
   ]
  },
  {
   "cell_type": "markdown",
   "metadata": {},
   "source": [
    "# 　　　　「あなたのこともっと知りたい...」"
   ]
  },
  {
   "cell_type": "markdown",
   "metadata": {
    "slideshow": {
     "slide_type": "subslide"
    }
   },
   "source": [
    "<div align=\"center\">\n",
    "<img src=\"images/Python_logo_and_wordmark.svg\">\n",
    "</div>"
   ]
  },
  {
   "cell_type": "markdown",
   "metadata": {
    "slideshow": {
     "slide_type": "slide"
    }
   },
   "source": [
    "# 目次\n",
    "- ツイートの収集\n",
    "- 文書分類器の作成\n",
    "  - 形態素解析\n",
    "  - 特徴ベクトル\n",
    "  - 機械学習"
   ]
  },
  {
   "cell_type": "markdown",
   "metadata": {
    "slideshow": {
     "slide_type": "slide"
    }
   },
   "source": [
    "# ツイートの収集"
   ]
  },
  {
   "cell_type": "markdown",
   "metadata": {},
   "source": [
    "[requests - PyPI](https://pypi.org/project/requests/)\n",
    "---\n",
    "> Requests is the only Non-GMO HTTP library for Python, safe for human consumption.\n",
    "\n",
    "[urllib.request](https://docs.python.jp/3/library/urllib.request.html)\n",
    "---\n",
    "> The urllib.request module defines functions and classes which help in opening URLs (mostly HTTP) in a complex world — basic and digest authentication, redirections, cookies and more."
   ]
  },
  {
   "cell_type": "markdown",
   "metadata": {
    "slideshow": {
     "slide_type": "subslide"
    }
   },
   "source": [
    "[python-twitter - PyPI](https://pypi.org/project/python-twitter/)\n",
    "---\n",
    "> A Python wrapper around the Twitter API. "
   ]
  },
  {
   "cell_type": "code",
   "execution_count": 1,
   "metadata": {
    "slideshow": {
     "slide_type": "-"
    }
   },
   "outputs": [
    {
     "data": {
      "text/plain": [
       "[Status(ID=1039667226767314945, ScreenName=jumpyoshim, Created=Wed Sep 12 00:09:17 +0000 2018, Text='RT @endo__k: 最後に書かせていただきました〜/ぐるなび×GitLab×Rancher ~Deep Dive~ - ぐるなびをちょっと良くするエンジニアブログ https://t.co/qHOiXugadm'),\n",
       " Status(ID=1037654842762702848, ScreenName=jumpyoshim, Created=Thu Sep 06 10:52:47 +0000 2018, Text='RT @makotofalcon: ねぇ愚痴っていいですか?\\n今俺がいる部署200人ぐらいいるのですがその中の管理職メンバーが、おれがVRゴーグルつけてお仕事をしていることを評価会議で糾弾してたらしいんですよ。全てお仕事なのですが?お前はスマホのアプリ作る時にスマホを見ずにアプ…')]"
      ]
     },
     "execution_count": 1,
     "metadata": {},
     "output_type": "execute_result"
    }
   ],
   "source": [
    "import twitter\n",
    "from ipython_secrets import get_secret\n",
    "\n",
    "CONSUMER_KEY = get_secret('CONSUMER_KEY')\n",
    "CONSUMER_SECRET = get_secret('CONSUMER_SECRET')\n",
    "ACCESS_TOKEN_KEY = get_secret('ACCESS_TOKEN_KEY')\n",
    "ACCESS_TOKEN_SECRET = get_secret('ACCESS_TOKEN_SECRET')\n",
    "\n",
    "api = twitter.Api(\n",
    "    consumer_key=CONSUMER_KEY,\n",
    "    consumer_secret=CONSUMER_SECRET,\n",
    "    access_token_key=ACCESS_TOKEN_KEY,\n",
    "    access_token_secret=ACCESS_TOKEN_SECRET\n",
    ")\n",
    "\n",
    "tweets = api.GetUserTimeline(screen_name='jumpyoshim', count=2)\n",
    "tweets"
   ]
  },
  {
   "cell_type": "markdown",
   "metadata": {
    "slideshow": {
     "slide_type": "slide"
    }
   },
   "source": [
    "# 文章のベクトル化"
   ]
  },
  {
   "cell_type": "markdown",
   "metadata": {
    "slideshow": {
     "slide_type": "-"
    }
   },
   "source": [
    "[Bag-of-Words（BoW）](https://tifana.ai/words/natural-language-processing/9302.html)\n",
    "---\n",
    "> ベクトル表現の一種。 文章に単語が含まれるかどうかのみを考え、単語の並び方などは考慮しない形式のこと。\n",
    "\n",
    "[Word2Vec - DeepAge](https://deepage.net/bigdata/machine_learning/2016/09/02/word2vec_power_of_word_vector.html)\n",
    "---\n",
    "> 単語の意味や文法を捉えるために単語をベクトル表現化して次元を圧縮したもの\n",
    "\n",
    "[Doc2Vec - DeepAge](https://deepage.net/machine_learning/2017/01/08/doc2vec.html)\n",
    "---\n",
    "> 任意の長さの文書をベクトル化する技術で、文やテキストに対して分散表現（Document Embeddings）を獲得することができる。"
   ]
  },
  {
   "cell_type": "markdown",
   "metadata": {
    "slideshow": {
     "slide_type": "slide"
    }
   },
   "source": [
    "# 形態素解析"
   ]
  },
  {
   "cell_type": "markdown",
   "metadata": {
    "slideshow": {
     "slide_type": "-"
    }
   },
   "source": [
    "[形態素解析 - Wikipedia](https://ja.wikipedia.org/wiki/%E5%BD%A2%E6%85%8B%E7%B4%A0%E8%A7%A3%E6%9E%90)\n",
    "---\n",
    "> 形態素解析（けいたいそかいせき、Morphological Analysis）とは、文法的な情報の注記の無い自然言語のテキストデータ（文）から、対象言語の文法や、辞書と呼ばれる単語の品詞等の情報にもとづき、形態素（Morpheme, おおまかにいえば、言語で意味を持つ最小単位）の列に分割し、それぞれの形態素の品詞等を判別する作業である"
   ]
  },
  {
   "cell_type": "code",
   "execution_count": 2,
   "metadata": {
    "slideshow": {
     "slide_type": "subslide"
    }
   },
   "outputs": [
    {
     "name": "stdout",
     "output_type": "stream",
     "text": [
      "すもも\t名詞,一般,*,*,*,*,すもも,スモモ,スモモ\n",
      "も\t助詞,係助詞,*,*,*,*,も,モ,モ\n",
      "もも\t名詞,一般,*,*,*,*,もも,モモ,モモ\n",
      "も\t助詞,係助詞,*,*,*,*,も,モ,モ\n",
      "もも\t名詞,一般,*,*,*,*,もも,モモ,モモ\n",
      "の\t助詞,連体化,*,*,*,*,の,ノ,ノ\n",
      "うち\t名詞,非自立,副詞可能,*,*,*,うち,ウチ,ウチ\n",
      "EOS\n",
      "\n"
     ]
    }
   ],
   "source": [
    "import MeCab\n",
    "\n",
    "text = 'すもももももももものうち'\n",
    "\n",
    "tagger = MeCab.Tagger('mecabrc')\n",
    "print(tagger.parse(text))"
   ]
  },
  {
   "cell_type": "markdown",
   "metadata": {
    "slideshow": {
     "slide_type": "subslide"
    }
   },
   "source": [
    "[mecab-python3 - PyPI](https://pypi.org/project/mecab-python3/)\n",
    "---\n",
    "> This python wrapper for mecab works on both python3.x and python2.x.\n",
    "\n",
    "\n",
    "[Janome - PyPI](https://pypi.org/project/Janome/)\n",
    "---\n",
    "> Janome is a Japanese morphological analysis engine written in pure Python.\n",
    "\n",
    "[JUMAN - Wikipedia](https://ja.wikipedia.org/wiki/JUMAN)\n",
    "---\n",
    "> JUMANは、日本語の形態素解析システム。京都大学黒橋・河原研究室で開発されている。\n",
    "人手で整備した辞書に基づいており、..."
   ]
  },
  {
   "cell_type": "code",
   "execution_count": 3,
   "metadata": {
    "scrolled": true,
    "slideshow": {
     "slide_type": "subslide"
    }
   },
   "outputs": [
    {
     "name": "stdout",
     "output_type": "stream",
     "text": [
      "[['rt', ':', '最後', '/', 'ぐる', 'び', 'gitlab×rancher', '~', 'deepdive', '~-', 'ぐる', 'びをちょっと', 'エンジニアブログ'], ['rt', ':', '?', '今', '俺', '部署', '200', '人', 'の', '中', '管理', '職', 'メンバー', 'おれ', 'vr', 'ゴーグル', '仕事', 'こと', '評価', '会議', '糾弾', 'ん', '全て', '仕事', 'の', '?', 'お前', 'スマホ', 'アプリ', '時', 'スマホ', 'アプ']]\n"
     ]
    }
   ],
   "source": [
    "import MeCab\n",
    "\n",
    "from lib.regex import replace_substring\n",
    "\n",
    "tagger = MeCab.Tagger('mecabrc')\n",
    "data = []\n",
    "for tweet in tweets:\n",
    "    text = replace_substring(tweet.text)\n",
    "    node = tagger.parseToNode(text)\n",
    "    words = []\n",
    "    while node:\n",
    "        meta = node.feature.split(',')\n",
    "        if meta[0] == '名詞':\n",
    "            words.append(node.surface.lower())\n",
    "        node = node.next\n",
    "    data.append(words)\n",
    "print(data)"
   ]
  },
  {
   "cell_type": "markdown",
   "metadata": {
    "slideshow": {
     "slide_type": "slide"
    }
   },
   "source": [
    "# 特徴ベクトル"
   ]
  },
  {
   "cell_type": "markdown",
   "metadata": {
    "slideshow": {
     "slide_type": "-"
    }
   },
   "source": [
    "[gensim - PyPI](https://pypi.org/project/gensim/)\n",
    "---\n",
    "> Gensim is a Python library for topic modelling, document indexing and similarity retrieval with large corpora. Target audience is the natural language processing (NLP) and information retrieval (IR) community."
   ]
  },
  {
   "cell_type": "code",
   "execution_count": 4,
   "metadata": {
    "scrolled": true,
    "slideshow": {
     "slide_type": "-"
    }
   },
   "outputs": [
    {
     "name": "stdout",
     "output_type": "stream",
     "text": [
      "[[1.0, 1.0, 1.0, 1.0, 1.0, 1.0, 1.0, 2.0, 1.0, 1.0, 1.0, 1.0, 0.0, 0.0, 0.0, 0.0, 0.0, 0.0, 0.0, 0.0, 0.0, 0.0, 0.0, 0.0, 0.0, 0.0, 0.0, 0.0, 0.0, 0.0, 0.0, 0.0, 0.0, 0.0, 0.0, 0.0, 0.0, 0.0], [0.0, 1.0, 0.0, 0.0, 1.0, 0.0, 0.0, 0.0, 0.0, 0.0, 0.0, 0.0, 1.0, 2.0, 1.0, 1.0, 1.0, 1.0, 2.0, 1.0, 1.0, 1.0, 1.0, 2.0, 1.0, 1.0, 1.0, 1.0, 2.0, 1.0, 1.0, 1.0, 1.0, 1.0, 1.0, 1.0, 1.0, 1.0]]\n"
     ]
    }
   ],
   "source": [
    "from gensim import corpora, matutils\n",
    "\n",
    "dictionary = corpora.Dictionary(data)\n",
    "data_train = []\n",
    "for datum in data:\n",
    "    bow = dictionary.doc2bow(datum)\n",
    "    dense = list(matutils.corpus2dense([bow], num_terms=len(dictionary)).T[0])\n",
    "    data_train.append(dense)\n",
    "print(data_train)"
   ]
  },
  {
   "cell_type": "markdown",
   "metadata": {
    "slideshow": {
     "slide_type": "slide"
    }
   },
   "source": [
    "# 機械学習"
   ]
  },
  {
   "cell_type": "markdown",
   "metadata": {
    "slideshow": {
     "slide_type": "-"
    }
   },
   "source": [
    "[エゴグラム - Wikipedia](https://ja.wikipedia.org/wiki/%E3%82%A8%E3%82%B4%E3%82%B0%E3%83%A9%E3%83%A0)\n",
    "---\n",
    "> エゴグラム (Egogram) とは、エリック・バーン (Eric Berne) の交流分析における自我状態をもとに、弟子であるジョン・M・デュセイ (John M. Dusay) が考案した性格診断法で、**人の心を5つに分類し、その5つの自我状態が放出する心的エネルギーの高さをグラフにしたもののこと** である\n"
   ]
  },
  {
   "cell_type": "markdown",
   "metadata": {
    "slideshow": {
     "slide_type": "-"
    }
   },
   "source": [
    "- CP(Critical Parent)：支配性\n",
    "- NP(Nurturing Parent)：寛容性\n",
    "- A(Adult)：論理性\n",
    "- FC(Free Child)：奔放性\n",
    "- AC(Adapted Child)：順応性"
   ]
  },
  {
   "cell_type": "markdown",
   "metadata": {
    "slideshow": {
     "slide_type": "subslide"
    }
   },
   "source": [
    "質問紙法\n",
    "---\n",
    "- 5要素のそれぞれに関する質問が10問程度ずつ、全部で50問程度の質問に答えていき、最後にそれを集計し、点数化したものを、CP、NP、A、FC、ACの順に点数をもとに点を打っていき、グラフにする"
   ]
  },
  {
   "cell_type": "code",
   "execution_count": 5,
   "metadata": {
    "slideshow": {
     "slide_type": "subslide"
    }
   },
   "outputs": [
    {
     "data": {
      "image/png": "[encoded data removed]",
      "text/plain": [
       "<Figure size 720x648 with 1 Axes>"
      ]
     },
     "metadata": {
      "needs_background": "light"
     },
     "output_type": "display_data"
    }
   ],
   "source": [
    "%matplotlib inline\n",
    "import matplotlib.pyplot as plt\n",
    "\n",
    "plt.figure(figsize=(10, 9))\n",
    "plt.title('Sample')\n",
    "plt.ylabel('score')\n",
    "plt.plot([12, 0, 20, 6, 18])\n",
    "plt.xticks([0, 1, 2, 3, 4], ['CP', 'NP', 'A', 'FC', 'AC'])\n",
    "plt.yticks([0, 5, 10, 15, 20])\n",
    "plt.show()"
   ]
  },
  {
   "cell_type": "markdown",
   "metadata": {
    "slideshow": {
     "slide_type": "subslide"
    }
   },
   "source": [
    "# [分類パターン](http://www.egogram-f.jp/seikaku/aisyou/patan.htm)\n",
    "- ネクラ厭世タイプ（Ｗ型）\n",
    "- 明朗楽観タイプ（Ｍ型）\n",
    "- 優柔不断タイプ（Ｎ型）\n",
    "- ハイパワータイプ（逆Ｎ型）\n",
    "- 頭でっかちタイプ（逆Ｖ型）\n",
    "- お手あげタイプ（Ｖ型）\n",
    "- 典型的ネクラタイプ（Ｕ型）\n",
    "- ぼんぼんタイプ（逆Ｕ型）\n",
    "- 頑固オヤジタイプ（左上がり型）\n",
    "- ガキ丸出しタイプ（右上がり型）\n",
    "- ハイレベルタイプ（オールＡ型）"
   ]
  },
  {
   "cell_type": "markdown",
   "metadata": {
    "slideshow": {
     "slide_type": "subslide"
    }
   },
   "source": [
    "- 中庸タイプ（オールＢ型）\n",
    "- 原始人タイプ（オールＣ型）\n",
    "- ルーズタイプ（ＣＰ欠乏型）\n",
    "- クールタイプ（ＮＰ欠乏型）\n",
    "- 現実無視タイプ（Ａ欠乏型）\n",
    "- 自閉症タイプ（ＦＣ欠乏型）\n",
    "- 気ままタイプ（ＡＣ欠乏型）\n",
    "- 口うるさタイプ（ＣＰ型）\n",
    "- お人好しタイプ（ＮＰ型）\n",
    "- コンピュータタイプ（Ａ型）\n",
    "- 自由奔放タイプ（ＦＣ型）\n",
    "- 自己卑下タイプ（ＡＣ型）"
   ]
  },
  {
   "cell_type": "markdown",
   "metadata": {
    "slideshow": {
     "slide_type": "subslide"
    }
   },
   "source": [
    "# [scikit-learn](https://pypi.org/project/scikit-learn/)\n",
    "> scikit-learn is a Python module for machine learning built on top of SciPy and distributed under the 3-Clause BSD license."
   ]
  },
  {
   "cell_type": "code",
   "execution_count": 10,
   "metadata": {
    "slideshow": {
     "slide_type": "-"
    }
   },
   "outputs": [
    {
     "data": {
      "text/plain": [
       "array(['ネクラ厭世タイプ（Ｗ型）', '明朗楽観タイプ（Ｍ型）'], dtype='<U12')"
      ]
     },
     "execution_count": 10,
     "metadata": {},
     "output_type": "execute_result"
    }
   ],
   "source": [
    "from sklearn.ensemble import RandomForestClassifier\n",
    "\n",
    "clf = RandomForestClassifier()\n",
    "label_train = ['ネクラ厭世タイプ（Ｗ型）', '明朗楽観タイプ（Ｍ型）']\n",
    "clf.fit(data_train, label_train)\n",
    "clf.predict(data_train)"
   ]
  },
  {
   "cell_type": "markdown",
   "metadata": {
    "slideshow": {
     "slide_type": "slide"
    }
   },
   "source": [
    "# [@PyConJ](https://twitter.com/PyConJ)の性格を推定してみよう"
   ]
  },
  {
   "cell_type": "markdown",
   "metadata": {},
   "source": [
    "<div align=\"center\">\n",
    "<img src=\"images/PyConJ.png\">\n",
    "</div>"
   ]
  },
  {
   "cell_type": "code",
   "execution_count": null,
   "metadata": {
    "slideshow": {
     "slide_type": "subslide"
    }
   },
   "outputs": [],
   "source": [
    "from sklearn.externals import joblib\n",
    "\n",
    "from lib.twitter import get_user_timeline\n",
    "\n",
    "# ツイートの収集\n",
    "tweets = get_user_timeline(api, 'PyConJ')\n",
    "\n",
    "# 形態素解析（名詞の抽出）\n",
    "node = tagger.parseToNode(tweets)\n",
    "words = []\n",
    "while node:\n",
    "    meta = node.feature.split(',')\n",
    "    if meta[0] == '名詞':\n",
    "        words.append(node.surface.lower())\n",
    "    node = node.next\n",
    "    \n",
    "# ベクトル化\n",
    "dictionary = corpora.Dictionary.load_from_text('Dictionary.txt')\n",
    "bow = dictionary.doc2bow(words)\n",
    "dense = list(matutils.corpus2dense([bow], num_terms=len(dictionary)).T[0])\n",
    "\n",
    "# 機械学習\n",
    "clf = joblib.load('egogram.pkl')\n",
    "clf.predict([dense]) "
   ]
  },
  {
   "cell_type": "markdown",
   "metadata": {
    "slideshow": {
     "slide_type": "slide"
    }
   },
   "source": [
    "# 参考文献\n",
    "- [scikit-learnとgensimでニュース記事を分類する - Qiita](https://qiita.com/yasunori/items/31a23eb259482e4824e2)\n",
    "- [SVMによる文書分類とその応用](https://qiita.com/3000manJPY/items/a0652d488ce3c956613d)"
   ]
  }
 ],
 "metadata": {
  "celltoolbar": "Slideshow",
  "kernelspec": {
   "display_name": "Python 3",
   "language": "python",
   "name": "python3"
  },
  "language_info": {
   "codemirror_mode": {
    "name": "ipython",
    "version": 3
   },
   "file_extension": ".py",
   "mimetype": "text/x-python",
   "name": "python",
   "nbconvert_exporter": "python",
   "pygments_lexer": "ipython3",
   "version": "3.7.0"
  }
 },
 "nbformat": 4,
 "nbformat_minor": 2
}
