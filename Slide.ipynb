{
 "cells": [
  {
   "cell_type": "markdown",
   "metadata": {
    "slideshow": {
     "slide_type": "slide"
    }
   },
   "source": [
    "# テキストマイニングによるTwitter個人アカウントの性格推定\n",
    "## Character estimation of Twitter personal account by text mining\n",
    "\n",
    "- 2018-09-17 PyCon JP 2018\n",
    "- @jumpyoshim ([Twitter](https://twitter.com/jumpyoshim)/[Qiita](https://qiita.com/jumpyoshim)/[GitLab](https://gitlab.com/jumpyoshim)/[はてなブログ](https://jumpyoshim.hatenablog.com/)) / 吉村　潤平\n",
    "- iRidge, Inc. - Gold Sponsor"
   ]
  },
  {
   "cell_type": "markdown",
   "metadata": {
    "slideshow": {
     "slide_type": "slide"
    }
   },
   "source": [
    "<div align=\"center\">\n",
    "<img src=\"images/kataomoi_woman.png\">\n",
    "</div>"
   ]
  },
  {
   "cell_type": "markdown",
   "metadata": {
    "slideshow": {
     "slide_type": "subslide"
    }
   },
   "source": [
    "<div align=\"center\">\n",
    "<img src=\"images/pose_atama_kakaeru_woman.png\">\n",
    "</div>"
   ]
  },
  {
   "cell_type": "markdown",
   "metadata": {},
   "source": [
    "# 「あなたのこともっと知りたい...」\n",
    "## “ I want to know more about you... ”"
   ]
  },
  {
   "cell_type": "markdown",
   "metadata": {
    "slideshow": {
     "slide_type": "subslide"
    }
   },
   "source": [
    "<div align=\"center\">\n",
    "<img src=\"images/Python_logo_and_wordmark.svg\">\n",
    "</div>"
   ]
  },
  {
   "cell_type": "markdown",
   "metadata": {
    "slideshow": {
     "slide_type": "slide"
    }
   },
   "source": [
    "# 目次（INDEX）\n",
    "- ツイートの収集（Collection of tweets）\n",
    "- 文書のベクトル化（Vectorization of sentences）\n",
    "   - 形態素解析（Morphological analysis）\n",
    "   - 特徴ベクトル（Feature vector）\n",
    "- 文書分類器(Document classifier)\n",
    "   - 機械学習（Machine learning）"
   ]
  },
  {
   "cell_type": "markdown",
   "metadata": {
    "slideshow": {
     "slide_type": "slide"
    }
   },
   "source": [
    "# ツイートの収集（Collection of tweets）"
   ]
  },
  {
   "cell_type": "markdown",
   "metadata": {
    "slideshow": {
     "slide_type": "-"
    }
   },
   "source": [
    "[python-twitter - PyPI](https://pypi.org/project/python-twitter/)\n",
    "---\n",
    "> A Python wrapper around the Twitter API. "
   ]
  },
  {
   "cell_type": "code",
   "execution_count": 1,
   "metadata": {
    "slideshow": {
     "slide_type": "subslide"
    }
   },
   "outputs": [
    {
     "data": {
      "text/plain": [
       "[Status(ID=1041532636303249408, ScreenName=jumpyoshim, Created=Mon Sep 17 03:41:45 +0000 2018, Text='RT @CardinalXaro: #pyconjp 株式会社アイリッジのブースでは、簡単なアンケートにお答えいただいた方にZen of Pythonのシールをお渡ししています。 https://t.co/3ODYhlI9hB'),\n",
       " Status(ID=1040568453109673984, ScreenName=jumpyoshim, Created=Fri Sep 14 11:50:26 +0000 2018, Text='草\\nhttps://t.co/PcNYOgfz8Z')]"
      ]
     },
     "execution_count": 1,
     "metadata": {},
     "output_type": "execute_result"
    }
   ],
   "source": [
    "import twitter\n",
    "from ipython_secrets import get_secret\n",
    "\n",
    "CONSUMER_KEY = get_secret('CONSUMER_KEY')\n",
    "CONSUMER_SECRET = get_secret('CONSUMER_SECRET')\n",
    "ACCESS_TOKEN_KEY = get_secret('ACCESS_TOKEN_KEY')\n",
    "ACCESS_TOKEN_SECRET = get_secret('ACCESS_TOKEN_SECRET')\n",
    "\n",
    "api = twitter.Api(\n",
    "    consumer_key=CONSUMER_KEY,\n",
    "    consumer_secret=CONSUMER_SECRET,\n",
    "    access_token_key=ACCESS_TOKEN_KEY,\n",
    "    access_token_secret=ACCESS_TOKEN_SECRET\n",
    ")\n",
    "\n",
    "tweets = api.GetUserTimeline(screen_name='jumpyoshim', count=2)\n",
    "tweets"
   ]
  },
  {
   "cell_type": "markdown",
   "metadata": {
    "slideshow": {
     "slide_type": "slide"
    }
   },
   "source": [
    "# 文書のベクトル化（Vectorization of sentences）"
   ]
  },
  {
   "cell_type": "markdown",
   "metadata": {
    "slideshow": {
     "slide_type": "-"
    }
   },
   "source": [
    "[Bag-of-Words（BoW）](https://tifana.ai/words/natural-language-processing/9302.html)\n",
    "---\n",
    "> ベクトル表現の一種。 文章に単語が含まれるかどうかのみを考え、単語の並び方などは考慮しない形式のこと。"
   ]
  },
  {
   "cell_type": "markdown",
   "metadata": {
    "slideshow": {
     "slide_type": "subslide"
    }
   },
   "source": [
    "## 形態素解析（Morphological analysis）"
   ]
  },
  {
   "cell_type": "markdown",
   "metadata": {
    "slideshow": {
     "slide_type": "-"
    }
   },
   "source": [
    "[形態素解析 - Wikipedia](https://ja.wikipedia.org/wiki/%E5%BD%A2%E6%85%8B%E7%B4%A0%E8%A7%A3%E6%9E%90)\n",
    "---\n",
    "> 形態素解析（けいたいそかいせき、Morphological Analysis）とは、文法的な情報の注記の無い自然言語のテキストデータ（文）から、対象言語の文法や、辞書と呼ばれる単語の品詞等の情報にもとづき、形態素（Morpheme, おおまかにいえば、言語で意味を持つ最小単位）の列に分割し、それぞれの形態素の品詞等を判別する作業である"
   ]
  },
  {
   "cell_type": "code",
   "execution_count": 2,
   "metadata": {
    "slideshow": {
     "slide_type": "subslide"
    }
   },
   "outputs": [
    {
     "name": "stdout",
     "output_type": "stream",
     "text": [
      "すもも\t名詞,一般,*,*,*,*,すもも,スモモ,スモモ\n",
      "も\t助詞,係助詞,*,*,*,*,も,モ,モ\n",
      "もも\t名詞,一般,*,*,*,*,もも,モモ,モモ\n",
      "も\t助詞,係助詞,*,*,*,*,も,モ,モ\n",
      "もも\t名詞,一般,*,*,*,*,もも,モモ,モモ\n",
      "の\t助詞,連体化,*,*,*,*,の,ノ,ノ\n",
      "うち\t名詞,非自立,副詞可能,*,*,*,うち,ウチ,ウチ\n",
      "EOS\n",
      "\n"
     ]
    }
   ],
   "source": [
    "import MeCab\n",
    "\n",
    "text = 'すもももももももものうち'\n",
    "\n",
    "tagger = MeCab.Tagger('mecabrc')\n",
    "print(tagger.parse(text))"
   ]
  },
  {
   "cell_type": "markdown",
   "metadata": {
    "slideshow": {
     "slide_type": "subslide"
    }
   },
   "source": [
    "[mecab-python3 - PyPI](https://pypi.org/project/mecab-python3/)\n",
    "---\n",
    "> This python wrapper for mecab works on both python3.x and python2.x."
   ]
  },
  {
   "cell_type": "code",
   "execution_count": 3,
   "metadata": {
    "scrolled": true,
    "slideshow": {
     "slide_type": "subslide"
    }
   },
   "outputs": [
    {
     "name": "stdout",
     "output_type": "stream",
     "text": [
      "[['rt', '@', 'cardinalxaro', ':', '#', 'pyconjp', '株式会社', 'アイリッジ', 'ブース', '簡単', 'アンケート', 'お答え', '方', 'zen', 'of', 'python', 'シール', '渡し', 'https', '://', 't', '.', 'co', '/', '3', 'odyhli', '9', 'hb'], ['草', 'https', '://', 't', '.', 'co', '/', 'pcnyogfz', '8', 'z']]\n"
     ]
    }
   ],
   "source": [
    "import MeCab\n",
    "\n",
    "tagger = MeCab.Tagger('mecabrc')\n",
    "data = []\n",
    "for tweet in tweets:\n",
    "    node = tagger.parseToNode(tweet.text)\n",
    "    words = []\n",
    "    while node:\n",
    "        meta = node.feature.split(',')\n",
    "        if meta[0] == '名詞':\n",
    "            words.append(node.surface.lower())\n",
    "        node = node.next\n",
    "    data.append(words)\n",
    "print(data)"
   ]
  },
  {
   "cell_type": "markdown",
   "metadata": {
    "slideshow": {
     "slide_type": "subslide"
    }
   },
   "source": [
    "## 特徴ベクトル（Feature vector）"
   ]
  },
  {
   "cell_type": "markdown",
   "metadata": {
    "slideshow": {
     "slide_type": "-"
    }
   },
   "source": [
    "[gensim - PyPI](https://pypi.org/project/gensim/)\n",
    "---\n",
    "> Gensim is a Python library for topic modelling, document indexing and similarity retrieval with large corpora. Target audience is the natural language processing (NLP) and information retrieval (IR) community."
   ]
  },
  {
   "cell_type": "code",
   "execution_count": 4,
   "metadata": {
    "scrolled": true,
    "slideshow": {
     "slide_type": "subslide"
    }
   },
   "outputs": [
    {
     "name": "stdout",
     "output_type": "stream",
     "text": [
      "[[1.0, 1.0, 1.0, 1.0, 1.0, 1.0, 1.0, 1.0, 1.0, 1.0, 1.0, 1.0, 1.0, 1.0, 1.0, 1.0, 1.0, 1.0, 1.0, 1.0, 1.0, 1.0, 1.0, 1.0, 1.0, 1.0, 1.0, 1.0, 0.0, 0.0, 0.0, 0.0], [0.0, 1.0, 1.0, 0.0, 0.0, 0.0, 1.0, 0.0, 0.0, 1.0, 0.0, 1.0, 0.0, 0.0, 0.0, 0.0, 0.0, 1.0, 0.0, 0.0, 0.0, 0.0, 0.0, 0.0, 0.0, 0.0, 0.0, 0.0, 1.0, 1.0, 1.0, 1.0]]\n"
     ]
    }
   ],
   "source": [
    "from gensim import corpora, matutils\n",
    "\n",
    "dictionary = corpora.Dictionary(data)\n",
    "data_train = []\n",
    "for datum in data:\n",
    "    bow = dictionary.doc2bow(datum)\n",
    "    dense = list(matutils.corpus2dense([bow], num_terms=len(dictionary)).T[0])\n",
    "    data_train.append(dense)\n",
    "print(data_train)"
   ]
  },
  {
   "cell_type": "markdown",
   "metadata": {
    "slideshow": {
     "slide_type": "slide"
    }
   },
   "source": [
    "# 文書分類器（Document classifier）"
   ]
  },
  {
   "cell_type": "markdown",
   "metadata": {
    "slideshow": {
     "slide_type": "-"
    }
   },
   "source": [
    "[エゴグラム - Wikipedia](https://ja.wikipedia.org/wiki/%E3%82%A8%E3%82%B4%E3%82%B0%E3%83%A9%E3%83%A0)\n",
    "---\n",
    "> エゴグラム (Egogram) とは、エリック・バーン (Eric Berne) の交流分析における自我状態をもとに、弟子であるジョン・M・デュセイ (John M. Dusay) が考案した性格診断法で、**人の心を5つに分類し、その5つの自我状態が放出する心的エネルギーの高さをグラフにしたもののこと** である\n"
   ]
  },
  {
   "cell_type": "markdown",
   "metadata": {
    "slideshow": {
     "slide_type": "subslide"
    }
   },
   "source": [
    "- CP(Critical Parent)：支配性\n",
    "- NP(Nurturing Parent)：寛容性\n",
    "- A(Adult)：論理性\n",
    "- FC(Free Child)：奔放性\n",
    "- AC(Adapted Child)：順応性"
   ]
  },
  {
   "cell_type": "markdown",
   "metadata": {
    "slideshow": {
     "slide_type": "subslide"
    }
   },
   "source": [
    "Paper test\n",
    "---\n",
    "- 5要素のそれぞれに関する質問が10問程度ずつ、全部で50問程度の質問に答えていき、最後にそれを集計し、点数化したものを、CP、NP、A、FC、ACの順に点数をもとに点を打っていき、グラフにする"
   ]
  },
  {
   "cell_type": "markdown",
   "metadata": {
    "slideshow": {
     "slide_type": "-"
    }
   },
   "source": [
    "<div align=\"center\">\n",
    "<img src=\"images/egogram.png\">\n",
    "</div>"
   ]
  },
  {
   "cell_type": "markdown",
   "metadata": {
    "slideshow": {
     "slide_type": "subslide"
    }
   },
   "source": [
    "# [Classification pattern](http://www.egogram-f.jp/seikaku/aisyou/patan.htm)\n",
    "- ネクラ厭世タイプ（Ｗ型）\n",
    "- 明朗楽観タイプ（Ｍ型）\n",
    "- 優柔不断タイプ（Ｎ型）\n",
    "- ハイパワータイプ（逆Ｎ型）\n",
    "- 頭でっかちタイプ（逆Ｖ型）\n",
    "- お手あげタイプ（Ｖ型）\n",
    "- 典型的ネクラタイプ（Ｕ型）\n",
    "- ぼんぼんタイプ（逆Ｕ型）\n",
    "- 頑固オヤジタイプ（左上がり型）\n",
    "- ガキ丸出しタイプ（右上がり型）\n",
    "- ハイレベルタイプ（オールＡ型）"
   ]
  },
  {
   "cell_type": "markdown",
   "metadata": {
    "slideshow": {
     "slide_type": "subslide"
    }
   },
   "source": [
    "- 中庸タイプ（オールＢ型）\n",
    "- 原始人タイプ（オールＣ型）\n",
    "- ルーズタイプ（ＣＰ欠乏型）\n",
    "- クールタイプ（ＮＰ欠乏型）\n",
    "- 現実無視タイプ（Ａ欠乏型）\n",
    "- 自閉症タイプ（ＦＣ欠乏型）\n",
    "- 気ままタイプ（ＡＣ欠乏型）\n",
    "- 口うるさタイプ（ＣＰ型）\n",
    "- お人好しタイプ（ＮＰ型）\n",
    "- コンピュータタイプ（Ａ型）\n",
    "- 自由奔放タイプ（ＦＣ型）\n",
    "- 自己卑下タイプ（ＡＣ型）"
   ]
  },
  {
   "cell_type": "markdown",
   "metadata": {
    "slideshow": {
     "slide_type": "subslide"
    }
   },
   "source": [
    "## 機械学習（Machine learning）"
   ]
  },
  {
   "cell_type": "markdown",
   "metadata": {
    "slideshow": {
     "slide_type": "-"
    }
   },
   "source": [
    "[scikit-learn](https://pypi.org/project/scikit-learn/)\n",
    "---\n",
    "> scikit-learn is a Python module for machine learning built on top of SciPy and distributed under the 3-Clause BSD license."
   ]
  },
  {
   "cell_type": "code",
   "execution_count": 6,
   "metadata": {
    "slideshow": {
     "slide_type": "subslide"
    }
   },
   "outputs": [
    {
     "data": {
      "text/plain": [
       "array(['ネクラ厭世タイプ（Ｗ型）', '明朗楽観タイプ（Ｍ型）'], dtype='<U12')"
      ]
     },
     "execution_count": 6,
     "metadata": {},
     "output_type": "execute_result"
    }
   ],
   "source": [
    "from sklearn.ensemble import RandomForestClassifier\n",
    "\n",
    "clf = RandomForestClassifier()\n",
    "label_train = ['ネクラ厭世タイプ（Ｗ型）', '明朗楽観タイプ（Ｍ型）']\n",
    "clf.fit(data_train, label_train)\n",
    "clf.predict(data_train)"
   ]
  },
  {
   "cell_type": "markdown",
   "metadata": {
    "slideshow": {
     "slide_type": "slide"
    }
   },
   "source": [
    "# [@PyConJ](https://twitter.com/PyConJ)の性格を推定してみよう\n",
    "## Let's estimate personality of @PyConJ"
   ]
  },
  {
   "cell_type": "markdown",
   "metadata": {},
   "source": [
    "<div align=\"center\">\n",
    "<img src=\"images/pyconj.png\">\n",
    "</div>"
   ]
  },
  {
   "cell_type": "code",
   "execution_count": null,
   "metadata": {
    "slideshow": {
     "slide_type": "subslide"
    }
   },
   "outputs": [],
   "source": [
    "from sklearn.externals import joblib\n",
    "\n",
    "from lib.twitter import get_user_timeline\n",
    "\n",
    "# ツイートの収集\n",
    "tweets = get_user_timeline(api, 'PyConJ')\n",
    "\n",
    "# 形態素解析（名詞の抽出）\n",
    "node = tagger.parseToNode(tweets)\n",
    "words = []\n",
    "while node:\n",
    "    meta = node.feature.split(',')\n",
    "    if meta[0] == '名詞':\n",
    "        words.append(node.surface.lower())\n",
    "    node = node.next\n",
    "    \n",
    "# ベクトル化\n",
    "dictionary = corpora.Dictionary.load_from_text('Dictionary.txt')\n",
    "bow = dictionary.doc2bow(words)\n",
    "dense = list(matutils.corpus2dense([bow], num_terms=len(dictionary)).T[0])\n",
    "\n",
    "# 機械学習\n",
    "clf = joblib.load('egogram.pkl')\n",
    "clf.predict([dense]) "
   ]
  },
  {
   "cell_type": "markdown",
   "metadata": {
    "slideshow": {
     "slide_type": "slide"
    }
   },
   "source": [
    "<div align=\"center\">\n",
    "<img src=\"images/seikou_banzai_woman.png\">\n",
    "</div>"
   ]
  }
 ],
 "metadata": {
  "celltoolbar": "Slideshow",
  "kernelspec": {
   "display_name": "Python 3",
   "language": "python",
   "name": "python3"
  },
  "language_info": {
   "codemirror_mode": {
    "name": "ipython",
    "version": 3
   },
   "file_extension": ".py",
   "mimetype": "text/x-python",
   "name": "python",
   "nbconvert_exporter": "python",
   "pygments_lexer": "ipython3",
   "version": "3.7.0"
  }
 },
 "nbformat": 4,
 "nbformat_minor": 2
}
